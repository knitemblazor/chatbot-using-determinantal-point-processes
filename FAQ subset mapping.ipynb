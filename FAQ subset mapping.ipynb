{
 "cells": [
  {
   "cell_type": "code",
   "execution_count": 1,
   "metadata": {},
   "outputs": [],
   "source": [
    "f = open('/home/her/DPPFAQ/project.txt', 'r')\n",
    "x= f.read().splitlines()\n",
    "f.close()"
   ]
  },
  {
   "cell_type": "code",
   "execution_count": 2,
   "metadata": {
    "scrolled": true
   },
   "outputs": [
    {
     "data": {
      "text/plain": [
       "['How much loan amount can I borrow in a Car Loan? You can borrow a loan amount from Rs50000 upto Rs30 Lakhs for Salaried Individuals and upto Rs1 Crore for Self-employed Individuals and Professionals depending on your eligibility basis the financial documents submitted, repayment capacity and loan amount required',\n",
       " ' RBL Bank only sanctions car loans for New Car purchase',\n",
       " ' How will I repay my Car Loan? We offer Car Loan as a term loan which can be repaid in easy EMIs (Equated Monthly Installments)',\n",
       " ' EMI can be paid through ECS facility, Standing Instruction to debit your RBL Bank account or through Post Dated Cheques with your EMI amount',\n",
       " ' EMI amount can be calculated using ‘EMI Calculator’ ',\n",
       " ' For how many months can I borrow a Car Loan? We offer convenient repayment options from 12 to 60 months',\n",
       " ' How much LTV can I get in a Car Loan? RBL Bank offers an LTV (Loan to Value) upto 90% of the value of the new car (includes Ex',\n",
       " ' Showroom Price + VAT + Insurance) What is the security to avail a Car Loan? Your vehicle is hypothecated to RBL Bank and lien is marked in favour of RBL Bank on the Registration Certificate, Final Invoice and Insurance Policy',\n",
       " 'Do I have to pay any Processing Fees or Charges to avail a Car Loan? A processing fee of a maximum of 1% of the loan amount (plus Service Tax at the prevailing rate) is required to be paid',\n",
       " ' This fee will be deducted from the Loan amount at the time of the disbursal of your loan']"
      ]
     },
     "execution_count": 2,
     "metadata": {},
     "output_type": "execute_result"
    }
   ],
   "source": [
    "x1=\" \".join(x)\n",
    "x1=x1.split('.')\n",
    "x1[:10]"
   ]
  },
  {
   "cell_type": "code",
   "execution_count": 3,
   "metadata": {},
   "outputs": [],
   "source": [
    "sent=[]\n",
    "counter=[]\n",
    "a=0\n",
    "for i in range(len(x1)):\n",
    "    d=[]\n",
    "    d.append(x1[i].split('?'))\n",
    "    d=sum(d,[])\n",
    "    if(len(d)>1):\n",
    "        counter.append(i+a)\n",
    "        a=a+1\n",
    "    sent.append(list(d))\n",
    "       "
   ]
  },
  {
   "cell_type": "code",
   "execution_count": 4,
   "metadata": {},
   "outputs": [
    {
     "data": {
      "text/plain": [
       "['How much loan amount can I borrow in a Car Loan',\n",
       " ' You can borrow a loan amount from Rs50000 upto Rs30 Lakhs for Salaried Individuals and upto Rs1 Crore for Self-employed Individuals and Professionals depending on your eligibility basis the financial documents submitted, repayment capacity and loan amount required',\n",
       " ' RBL Bank only sanctions car loans for New Car purchase',\n",
       " ' How will I repay my Car Loan',\n",
       " ' We offer Car Loan as a term loan which can be repaid in easy EMIs (Equated Monthly Installments)']"
      ]
     },
     "execution_count": 4,
     "metadata": {},
     "output_type": "execute_result"
    }
   ],
   "source": [
    "x=sum(sent,[])\n",
    "x[:5]\n"
   ]
  },
  {
   "cell_type": "markdown",
   "metadata": {},
   "source": [
    "#### REMOVING SPECIAL CHARACTERS"
   ]
  },
  {
   "cell_type": "code",
   "execution_count": 5,
   "metadata": {},
   "outputs": [],
   "source": [
    "d =[]\n",
    "elim=['1','2','3','4','5','6','7','8','9','0',':',';','>','<','/',',','-','\\\\',\n",
    "      '#','%','(',')','+','\"']\n",
    "for i in x:\n",
    "    sent = \" \".join(\"\".join([\"\" if ch in elim else ch for ch in i]).split())\n",
    "    d.append(sent.lower())"
   ]
  },
  {
   "cell_type": "code",
   "execution_count": 6,
   "metadata": {},
   "outputs": [
    {
     "data": {
      "text/plain": [
       "[0, 3, 7, 9, 11]"
      ]
     },
     "execution_count": 6,
     "metadata": {},
     "output_type": "execute_result"
    }
   ],
   "source": [
    "counter[:5]"
   ]
  },
  {
   "cell_type": "code",
   "execution_count": 7,
   "metadata": {},
   "outputs": [
    {
     "data": {
      "text/plain": [
       "99"
      ]
     },
     "execution_count": 7,
     "metadata": {},
     "output_type": "execute_result"
    }
   ],
   "source": [
    "f=[]\n",
    "for i in d:\n",
    "#     print(len(i))\n",
    "    if(len(i)!=0):\n",
    "        f.append(i)\n",
    "f[:5]\n",
    "len(f)"
   ]
  },
  {
   "cell_type": "code",
   "execution_count": 8,
   "metadata": {},
   "outputs": [
    {
     "data": {
      "text/plain": [
       "['how much loan amount can i borrow in a car loan',\n",
       " 'you can borrow a loan amount from rs upto rs lakhs for salaried individuals and upto rs crore for selfemployed individuals and professionals depending on your eligibility basis the financial documents submitted repayment capacity and loan amount required',\n",
       " 'rbl bank only sanctions car loans for new car purchase',\n",
       " 'how will i repay my car loan',\n",
       " 'we offer car loan as a term loan which can be repaid in easy emis equated monthly installments']"
      ]
     },
     "execution_count": 8,
     "metadata": {},
     "output_type": "execute_result"
    }
   ],
   "source": [
    "f[:5]"
   ]
  },
  {
   "cell_type": "markdown",
   "metadata": {},
   "source": [
    "#### SUBSET GROUPING"
   ]
  },
  {
   "cell_type": "code",
   "execution_count": 9,
   "metadata": {},
   "outputs": [],
   "source": [
    "samplebound=counter[1:]"
   ]
  },
  {
   "cell_type": "code",
   "execution_count": 10,
   "metadata": {},
   "outputs": [],
   "source": [
    "import numpy as np\n",
    "bound=[]\n",
    "bound.append([0,samplebound[0]-1])\n",
    "\n",
    "for i in range(len(samplebound)-1):\n",
    "    if ((samplebound[i+1]-samplebound[i])>1):\n",
    "        a=[]\n",
    "        a.append(samplebound[i])\n",
    "        a.append(samplebound[i+1]-1)\n",
    "        bound.append(a)\n",
    "c=[]\n",
    "c.append(a[1]+1)\n",
    "c.append(len(f)-1)\n",
    "bound.append(c)\n",
    "\n",
    "subset=np.array(bound)\n"
   ]
  },
  {
   "cell_type": "code",
   "execution_count": 11,
   "metadata": {},
   "outputs": [
    {
     "data": {
      "text/plain": [
       "array([[ 0,  2],\n",
       "       [ 3,  6],\n",
       "       [ 7,  8],\n",
       "       [ 9, 10],\n",
       "       [11, 12]])"
      ]
     },
     "execution_count": 11,
     "metadata": {},
     "output_type": "execute_result"
    }
   ],
   "source": [
    "subset=np.array(subset)\n",
    "np.save(\"/home/her/DPPFAQ/subsetfaq.npy\", subset)\n",
    "subset[:5]"
   ]
  },
  {
   "cell_type": "markdown",
   "metadata": {},
   "source": [
    "#### wordvec"
   ]
  },
  {
   "cell_type": "code",
   "execution_count": 12,
   "metadata": {},
   "outputs": [],
   "source": [
    "sentences=[]\n",
    "for i in f:\n",
    "    sentences.append((i).split())"
   ]
  },
  {
   "cell_type": "code",
   "execution_count": 13,
   "metadata": {},
   "outputs": [
    {
     "name": "stdout",
     "output_type": "stream",
     "text": [
      "38\n"
     ]
    },
    {
     "data": {
      "text/plain": [
       "[['how',\n",
       "  'much',\n",
       "  'loan',\n",
       "  'amount',\n",
       "  'can',\n",
       "  'i',\n",
       "  'borrow',\n",
       "  'in',\n",
       "  'a',\n",
       "  'car',\n",
       "  'loan']]"
      ]
     },
     "execution_count": 13,
     "metadata": {},
     "output_type": "execute_result"
    }
   ],
   "source": [
    "type(sentences)\n",
    "sentlength=[]\n",
    "for i in sentences:\n",
    "    sentlength.append(len(i))\n",
    "print(max(sentlength))\n",
    "sentences[:1]"
   ]
  },
  {
   "cell_type": "code",
   "execution_count": 14,
   "metadata": {},
   "outputs": [
    {
     "name": "stdout",
     "output_type": "stream",
     "text": [
      "Word2Vec(vocab=335, size=300, alpha=0.025)\n"
     ]
    }
   ],
   "source": [
    "from gensim.models import Word2Vec\n",
    "model = Word2Vec(sentences,size=300, min_count=1)\n",
    "print(model)\n",
    "words = list(model.wv.vocab)\n",
    "model.save(\"/home/her/DPP/word2vecsubtitlesfaq.model\")\n",
    "# print((words))"
   ]
  },
  {
   "cell_type": "markdown",
   "metadata": {},
   "source": [
    "#### Feature matrix"
   ]
  },
  {
   "cell_type": "code",
   "execution_count": 15,
   "metadata": {},
   "outputs": [
    {
     "name": "stderr",
     "output_type": "stream",
     "text": [
      "/home/her/bhavya/lib/python3.6/site-packages/ipykernel_launcher.py:7: DeprecationWarning: Call to deprecated `__getitem__` (Method will be removed in 4.0.0, use self.wv.__getitem__() instead).\n",
      "  import sys\n"
     ]
    }
   ],
   "source": [
    "def sentencevector(sent):\n",
    "    vector=[]\n",
    "    c=[]\n",
    "    for i in range(300):\n",
    "        c.append(0)\n",
    "    for word in sent:\n",
    "           vector.append(model[word])\n",
    "    for i in vector:\n",
    "        c=c+np.array(i)\n",
    "    return(c)\n",
    "\n",
    "\n",
    "feature=[]\n",
    "for i in range(len(sentences)):\n",
    "    a=np.array(sentencevector(sentences[i]))\n",
    "    feature.append(a)\n",
    "    \n",
    "features=np.array(feature)"
   ]
  },
  {
   "cell_type": "code",
   "execution_count": 16,
   "metadata": {},
   "outputs": [
    {
     "data": {
      "text/plain": [
       "list"
      ]
     },
     "execution_count": 16,
     "metadata": {},
     "output_type": "execute_result"
    }
   ],
   "source": [
    "type(feature)"
   ]
  },
  {
   "cell_type": "code",
   "execution_count": 17,
   "metadata": {},
   "outputs": [],
   "source": [
    "np.save(\"/home/her/DPPFAQ/featurefaq.npy\", feature)"
   ]
  },
  {
   "cell_type": "code",
   "execution_count": 18,
   "metadata": {},
   "outputs": [],
   "source": [
    "import numpy as np\n",
    "def fixed_point_map(feature,subset,subcheck):\n",
    "        dim=len(feature[1])\n",
    "        number=len(feature[:,1])\n",
    "        feature=feature.reshape(number,dim)\n",
    "        eta=.25\n",
    "        exceptions=[]\n",
    "        W=np.random.rand(dim,dim)\n",
    "        Z = np.array([[0]*number]*number).astype(float)\n",
    "        I = np.array([[0]*number]*number)\n",
    "        for i in range(number):\n",
    "            for j in range(number):\n",
    "                if(i==j):\n",
    "                    I[i][j]=1\n",
    "                            \n",
    "        subsetf=[]\n",
    "        for i in subset:\n",
    "            a=[]\n",
    "            if(i[0]!=i[1]):\n",
    "                for j in range(i[0],i[1]+1):\n",
    "                    a.append(j)\n",
    "                subsetf.append(a)\n",
    "          \n",
    "        L=np.matmul(np.matmul(feature,W),feature.transpose())\n",
    "        \n",
    "\n",
    "        for i in range(500):\n",
    "            for k in range (len(subsetf)):\n",
    "                sub=subsetf[k]\n",
    "                ly=[]\n",
    "                for i in sub:\n",
    "                    a=[]\n",
    "                    for j in sub:\n",
    "                        a.append(L[i][j])\n",
    "                    ly.append(a)\n",
    "                try:  \n",
    "                    ly=np.array(ly)\n",
    "                    lyinv=np.linalg.inv(ly)\n",
    "            \n",
    "                    b=[]\n",
    "                    for i in range (len(sub)):\n",
    "                        for j in range (len(sub)):\n",
    "                              b.append(lyinv[i][j])\n",
    "                    start=0\n",
    "                    stop=1\n",
    "\n",
    "                    for i in sub:\n",
    "                        for j in sub:\n",
    "                            for k in range(start,stop):\n",
    "                                Z[i][j]=Z[i][j]+b[k]\n",
    "                                start=start+1\n",
    "                                stop=stop+1\n",
    "                                break\n",
    "                except:\n",
    "                    exceptions.append(k)\n",
    "            Z=Z/len(subsetf)  \n",
    "            e=np.matmul(feature.transpose(),np.matmul(Z-np.linalg.inv(L+I),feature))\n",
    "            W=W+np.matmul(eta*(W),((np.matmul(e,W))))\n",
    "            L=np.matmul(np.matmul(feature,W),feature.transpose())\n",
    "        probab=[]\n",
    "        \n",
    "        for k in range (len(subsetf)):\n",
    "            sub=subsetf[k]\n",
    "            ly=[]\n",
    "            for i in sub:\n",
    "                a=[]\n",
    "                for j in sub:\n",
    "                    a.append(L[i][j])\n",
    "                ly.append(a)\n",
    "            ly=np.array(ly)\n",
    "            probab.append((np.linalg.det(ly)/np.linalg.det(L+I)))\n",
    "        \n",
    "        checkprobab=[]    \n",
    "        \n",
    "        for k in range (len(subcheck)):\n",
    "            sub=subcheck[k]\n",
    "            ly=[]\n",
    "            for i in sub:\n",
    "                a=[]\n",
    "                for j in sub:\n",
    "                    a.append(L[i][j])\n",
    "                ly.append(a)\n",
    "            ly=np.array(ly)\n",
    "            checkprobab.append((np.linalg.det(ly)/np.linalg.det(L+I))) \n",
    "        \n",
    "        return L,exceptions,probab,checkprobab\n",
    "feature=np.load(\"/home/her/DPPFAQ/featurefaq.npy\")\n",
    "subset=np.load(\"/home/her/DPPFAQ/subsetfaq.npy\")\n",
    "subcheck=[[0,3],[3,7],[7,9],[9,11],[11,12],[12],[13],[12,13],[60,61,62,63,64]]\n",
    "L,exceptions,probab,checkprobab=fixed_point_map(feature,subset,subcheck)"
   ]
  },
  {
   "cell_type": "code",
   "execution_count": 19,
   "metadata": {},
   "outputs": [],
   "source": [
    "import numpy as np\n",
    "def fixed_point_map(feature,subset,subcheck):\n",
    "        dim=len(feature[1])\n",
    "        number=len(feature[:,1])\n",
    "        feature=feature.reshape(number,dim)\n",
    "        eta=.25\n",
    "        exceptions=[]\n",
    "        W=np.random.rand(dim,dim)\n",
    "        Z = np.array([[0]*number]*number).astype(float)\n",
    "        I = np.array([[0]*number]*number)\n",
    "        for i in range(number):\n",
    "            for j in range(number):\n",
    "                if(i==j):\n",
    "                    I[i][j]=1\n",
    "                            \n",
    "        subsetf=[]\n",
    "        for i in subset:\n",
    "            a=[]\n",
    "            if(i[0]!=i[1]):\n",
    "                for j in range(i[0],i[1]+1):\n",
    "                    a.append(j)\n",
    "                subsetf.append(a)\n",
    "          \n",
    "        L=np.matmul(feature,feature.transpose())\n",
    "        \n",
    "\n",
    "        for i in range(500):\n",
    "            for k in range (len(subsetf)):\n",
    "                sub=subsetf[k]\n",
    "                ly=[]\n",
    "                for i in sub:\n",
    "                    a=[]\n",
    "                    for j in sub:\n",
    "                        a.append(L[i][j])\n",
    "                    ly.append(a)\n",
    "                try:  \n",
    "                    ly=np.array(ly)\n",
    "                    lyinv=np.linalg.inv(ly)\n",
    "            \n",
    "                    b=[]\n",
    "                    for i in range (len(sub)):\n",
    "                        for j in range (len(sub)):\n",
    "                              b.append(lyinv[i][j])\n",
    "                    start=0\n",
    "                    stop=1\n",
    "\n",
    "                    for i in sub:\n",
    "                        for j in sub:\n",
    "                            for k in range(start,stop):\n",
    "                                Z[i][j]=Z[i][j]+b[k]\n",
    "                                start=start+1\n",
    "                                stop=stop+1\n",
    "                                break\n",
    "                except:\n",
    "                    exceptions.append(k)\n",
    "            Z=Z/len(subsetf)  \n",
    "            e=Z-np.linalg.inv(L+I)\n",
    "            L=L+np.matmul(eta*(L),((np.matmul(e,L))))\n",
    "        probab=[]\n",
    "        \n",
    "        for k in range (len(subsetf)):\n",
    "            sub=subsetf[k]\n",
    "            ly=[]\n",
    "            for i in sub:\n",
    "                a=[]\n",
    "                for j in sub:\n",
    "                    a.append(.5*L[i][j])\n",
    "                ly.append(a)\n",
    "            ly=np.array(ly)\n",
    "            probab.append((np.linalg.det(ly)/np.linalg.det(L+I)))\n",
    "        \n",
    "        checkprobab=[]    \n",
    "        \n",
    "        for k in range (len(subcheck)):\n",
    "            sub=subcheck[k]\n",
    "            ly=[]\n",
    "            for i in sub:\n",
    "                a=[]\n",
    "                for j in sub:\n",
    "                    a.append(L[i][j])\n",
    "                ly.append(a)\n",
    "            ly=np.array(ly)\n",
    "            checkprobab.append((np.linalg.det(ly)/np.linalg.det(L+I))) \n",
    "        \n",
    "        return L,exceptions,probab,checkprobab\n",
    "feature=np.load(\"/home/her/DPPFAQ/featurefaq.npy\")\n",
    "subset=np.load(\"/home/her/DPPFAQ/subsetfaq.npy\")\n",
    "subcheck=[[0,3],[3,7],[7,9],[9,11],[11,12],[12],[13],[12,13],[60,61,62,63,64]]\n",
    "L,exceptions,probab,checkprobab=fixed_point_map(feature,subset,subcheck)"
   ]
  },
  {
   "cell_type": "code",
   "execution_count": 20,
   "metadata": {},
   "outputs": [
    {
     "data": {
      "text/plain": [
       "array([1.91228166e-06, 1.68437389e-08, 4.58615123e-06, 1.96274167e-05,\n",
       "       1.96750406e-05, 2.35145662e-06, 2.79312168e-11, 1.60920185e-08,\n",
       "       2.10310155e-07, 9.45668481e-08, 4.41230272e-05, 4.75288483e-07,\n",
       "       1.25839949e-08, 1.36000546e-08, 5.36324147e-06, 5.53347744e-05,\n",
       "       2.34252520e-06, 3.05587799e-13, 1.22540086e-08, 5.02884751e-06,\n",
       "       1.10506517e-10, 3.34687720e-07, 3.93178318e-11, 3.57429600e-06,\n",
       "       4.87838051e-09, 5.35217977e-09, 6.47810816e-09, 1.44741384e-05,\n",
       "       1.63376768e-08])"
      ]
     },
     "execution_count": 20,
     "metadata": {},
     "output_type": "execute_result"
    }
   ],
   "source": [
    "np.absolute(probab)"
   ]
  },
  {
   "cell_type": "code",
   "execution_count": 22,
   "metadata": {},
   "outputs": [
    {
     "data": {
      "text/plain": [
       "array([[ 0,  2],\n",
       "       [ 3,  6],\n",
       "       [ 7,  8],\n",
       "       [ 9, 10],\n",
       "       [11, 12],\n",
       "       [13, 15],\n",
       "       [16, 21],\n",
       "       [22, 25],\n",
       "       [26, 28],\n",
       "       [29, 32],\n",
       "       [33, 34],\n",
       "       [35, 37],\n",
       "       [38, 41],\n",
       "       [42, 45],\n",
       "       [46, 47],\n",
       "       [48, 49],\n",
       "       [50, 52],\n",
       "       [53, 59],\n",
       "       [60, 63],\n",
       "       [64, 65],\n",
       "       [66, 70],\n",
       "       [71, 73],\n",
       "       [74, 78],\n",
       "       [79, 80],\n",
       "       [81, 84],\n",
       "       [85, 88],\n",
       "       [89, 92],\n",
       "       [93, 94],\n",
       "       [95, 98]])"
      ]
     },
     "execution_count": 22,
     "metadata": {},
     "output_type": "execute_result"
    }
   ],
   "source": [
    "subset"
   ]
  },
  {
   "cell_type": "code",
   "execution_count": 18,
   "metadata": {},
   "outputs": [
    {
     "data": {
      "text/plain": [
       "array([2.25449203e-05, 1.13307837e-07, 4.71339068e-07, 3.65763528e-07,\n",
       "       1.22076204e-05, 3.90230019e-06, 4.97368923e-06, 6.91201498e-06,\n",
       "       5.15482911e-06, 8.82123539e-06])"
      ]
     },
     "execution_count": 18,
     "metadata": {},
     "output_type": "execute_result"
    }
   ],
   "source": [
    "subcheck=[[0,1,2],[0,1,2,3],[3,4,5,6],[7,8,9],[9,11],[11,13],[13,16],\n",
    "          [16,22],[1,2],[2,3]]\n",
    "checkprobab=[]    \n",
    "        \n",
    "number =99\n",
    "I = np.array([[0]*number]*number)\n",
    "for i in range(number):\n",
    "    for j in range(number):\n",
    "        if(i==j):\n",
    "            I[i][j]=1\n",
    "                    \n",
    "for k in range (len(subcheck)):\n",
    "    sub=subcheck[k]\n",
    "    ly=[]\n",
    "    for i in sub:\n",
    "        a=[]\n",
    "        for j in sub:\n",
    "            a.append(L[i][j])\n",
    "        ly.append(a)\n",
    "    ly=np.array(ly)\n",
    "    checkprobab.append((np.linalg.det(ly)/np.linalg.det(L+I))) \n",
    "np.absolute(checkprobab)"
   ]
  },
  {
   "cell_type": "code",
   "execution_count": 21,
   "metadata": {},
   "outputs": [
    {
     "ename": "NameError",
     "evalue": "name 'number' is not defined",
     "output_type": "error",
     "traceback": [
      "\u001b[0;31m---------------------------------------------------------------------------\u001b[0m",
      "\u001b[0;31mNameError\u001b[0m                                 Traceback (most recent call last)",
      "\u001b[0;32m<ipython-input-21-a52e21f82b2b>\u001b[0m in \u001b[0;36m<module>\u001b[0;34m\u001b[0m\n\u001b[1;32m      1\u001b[0m \u001b[0mL\u001b[0m\u001b[0;34m=\u001b[0m\u001b[0;34m[\u001b[0m\u001b[0;34m]\u001b[0m\u001b[0;34m\u001b[0m\u001b[0;34m\u001b[0m\u001b[0m\n\u001b[0;32m----> 2\u001b[0;31m \u001b[0;32mfor\u001b[0m \u001b[0mi\u001b[0m \u001b[0;32min\u001b[0m \u001b[0mrange\u001b[0m\u001b[0;34m(\u001b[0m\u001b[0mnumber\u001b[0m\u001b[0;34m)\u001b[0m\u001b[0;34m:\u001b[0m\u001b[0;34m\u001b[0m\u001b[0;34m\u001b[0m\u001b[0m\n\u001b[0m\u001b[1;32m      3\u001b[0m             \u001b[0;32mfor\u001b[0m \u001b[0mj\u001b[0m \u001b[0;32min\u001b[0m \u001b[0mrange\u001b[0m\u001b[0;34m(\u001b[0m\u001b[0mnumber\u001b[0m\u001b[0;34m)\u001b[0m\u001b[0;34m:\u001b[0m\u001b[0;34m\u001b[0m\u001b[0;34m\u001b[0m\u001b[0m\n\u001b[1;32m      4\u001b[0m                 M=np.exp((-1*0.25*(np.linalg.norm((np.array(feature[i]))\n\u001b[1;32m      5\u001b[0m                                                   -np.array(feature[j]),2))))\n",
      "\u001b[0;31mNameError\u001b[0m: name 'number' is not defined"
     ]
    }
   ],
   "source": [
    "L=[]\n",
    "for i in range(number):\n",
    "            for j in range(number):    \n",
    "                M=np.exp((-1*0.25*(np.linalg.norm((np.array(feature[i]))\n",
    "                                                  -np.array(feature[j]),2))))\n",
    "                L.append(M)\n",
    "L=np.array(L)\n",
    "L=L.reshape(number,number)"
   ]
  },
  {
   "cell_type": "code",
   "execution_count": null,
   "metadata": {},
   "outputs": [],
   "source": []
  }
 ],
 "metadata": {
  "kernelspec": {
   "display_name": "Python 3",
   "language": "python",
   "name": "python3"
  },
  "language_info": {
   "codemirror_mode": {
    "name": "ipython",
    "version": 3
   },
   "file_extension": ".py",
   "mimetype": "text/x-python",
   "name": "python",
   "nbconvert_exporter": "python",
   "pygments_lexer": "ipython3",
   "version": "3.6.7"
  }
 },
 "nbformat": 4,
 "nbformat_minor": 2
}
