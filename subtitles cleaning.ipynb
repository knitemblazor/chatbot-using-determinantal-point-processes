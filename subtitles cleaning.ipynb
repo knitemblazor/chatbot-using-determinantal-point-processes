{
 "cells": [
  {
   "cell_type": "code",
   "execution_count": 1,
   "metadata": {},
   "outputs": [],
   "source": [
    "f = open('/home/her/DPP/notebook.txt', 'r')\n",
    "x= f.read().splitlines()\n",
    "f.close()"
   ]
  },
  {
   "cell_type": "code",
   "execution_count": 68,
   "metadata": {
    "collapsed": true
   },
   "outputs": [
    {
     "data": {
      "text/plain": [
       "['         ',\n",
       " 'Excuse me ',\n",
       " '         ',\n",
       " 'Come on  honey  let s',\n",
       " 'get you ready for bed ',\n",
       " '         ',\n",
       " 'I am no one special ',\n",
       " '         ',\n",
       " 'just a common man',\n",
       " 'with common thoughts ']"
      ]
     },
     "execution_count": 68,
     "metadata": {},
     "output_type": "execute_result"
    }
   ],
   "source": [
    "\"\"\"\"\n",
    "from gensim.parsing.preprocessing import strip_punctuation,strip_numeric\n",
    "y=strip_punctuation(x[1])\n",
    "g=[]\n",
    "for i in range(len(x)):\n",
    "    a=strip_punctuation(x[i])\n",
    "    a=strip_numeric(a)\n",
    "    g.append(a)    \n",
    "g[:20]\n",
    "f=[]\n",
    "for i in g:\n",
    "#     print(len(i))\n",
    "    if(len(i)!=0):\n",
    "        f.append(i)\n",
    "f[:10]\n",
    "\"\"\"\""
   ]
  },
  {
   "cell_type": "markdown",
   "metadata": {},
   "source": [
    "#### REMOVING SPECIAL CHARACTERS"
   ]
  },
  {
   "cell_type": "code",
   "execution_count": 2,
   "metadata": {},
   "outputs": [],
   "source": [
    "d =[]\n",
    "elim=['1','2','3','4','5','6','7','8','9','0',':',';','>','<','/',',','-','\\\\','#']\n",
    "for i in x:\n",
    "    sent = \" \".join(\"\".join([\"\" if ch in elim else ch for ch in i]).split())\n",
    "    d.append(sent)"
   ]
  },
  {
   "cell_type": "code",
   "execution_count": 4,
   "metadata": {},
   "outputs": [
    {
     "data": {
      "text/plain": [
       "2664"
      ]
     },
     "execution_count": 4,
     "metadata": {},
     "output_type": "execute_result"
    }
   ],
   "source": [
    "f=[]\n",
    "for i in d:\n",
    "#     print(len(i))\n",
    "    if(len(i)!=0):\n",
    "        f.append(i)\n",
    "f[:5]\n",
    "len(f)"
   ]
  },
  {
   "cell_type": "code",
   "execution_count": 4,
   "metadata": {},
   "outputs": [
    {
     "data": {
      "text/plain": [
       "['Excuse me',\n",
       " \" Come on honey let's get you ready for bed\",\n",
       " ' I am no one special just a common man with common thoughts',\n",
       " \" I've led a common life\",\n",
       " ' There are no monuments dedicated to me']"
      ]
     },
     "execution_count": 4,
     "metadata": {},
     "output_type": "execute_result"
    }
   ],
   "source": [
    "fin=\" \".join(f)\n",
    "k=fin.split('.')\n",
    "k[:5]"
   ]
  },
  {
   "cell_type": "code",
   "execution_count": 5,
   "metadata": {},
   "outputs": [
    {
     "data": {
      "text/plain": [
       "[['Excuse me'],\n",
       " [\" Come on honey let's get you ready for bed\"],\n",
       " [' I am no one special just a common man with common thoughts'],\n",
       " [\" I've led a common life\"],\n",
       " [' There are no monuments dedicated to me']]"
      ]
     },
     "execution_count": 5,
     "metadata": {},
     "output_type": "execute_result"
    }
   ],
   "source": [
    "fin1=[]\n",
    "for i in k:\n",
    "    fin1.append(i.split(\"?\"))\n",
    "fin1[:5]"
   ]
  },
  {
   "cell_type": "markdown",
   "metadata": {},
   "source": [
    "####  CONVERT 2D LIST TO 1D "
   ]
  },
  {
   "cell_type": "code",
   "execution_count": 6,
   "metadata": {
    "scrolled": true
   },
   "outputs": [
    {
     "data": {
      "text/plain": [
       "''"
      ]
     },
     "execution_count": 6,
     "metadata": {},
     "output_type": "execute_result"
    }
   ],
   "source": [
    "fin1=sum(fin1,[])\n",
    "len(fin1)\n",
    "fin1[38]"
   ]
  },
  {
   "cell_type": "markdown",
   "metadata": {},
   "source": [
    "#### SUBSET GROUPING"
   ]
  },
  {
   "cell_type": "code",
   "execution_count": 7,
   "metadata": {},
   "outputs": [],
   "source": [
    "samplebound=[]\n",
    "for i in range(len(fin1)):\n",
    "    if(len(fin1[i])==0):\n",
    "          samplebound.append(i)"
   ]
  },
  {
   "cell_type": "code",
   "execution_count": 8,
   "metadata": {},
   "outputs": [
    {
     "data": {
      "text/plain": [
       "[31, 32, 38, 39, 78, 79, 86, 87, 89, 90]"
      ]
     },
     "execution_count": 8,
     "metadata": {},
     "output_type": "execute_result"
    }
   ],
   "source": [
    "samplebound[:10]"
   ]
  },
  {
   "cell_type": "code",
   "execution_count": 9,
   "metadata": {},
   "outputs": [],
   "source": [
    "import numpy as np\n",
    "bound=[]\n",
    "bound.append([0,samplebound[0]-1])\n",
    "\n",
    "for i in range(len(samplebound)-1):\n",
    "    if ((samplebound[i+1]-samplebound[i])>1):\n",
    "        a=[]\n",
    "        a.append(samplebound[i]+1)\n",
    "        a.append(samplebound[i+1]-1)\n",
    "        bound.append(a) \n",
    "subset=np.array(bound)"
   ]
  },
  {
   "cell_type": "code",
   "execution_count": 10,
   "metadata": {},
   "outputs": [
    {
     "data": {
      "text/plain": [
       "array([[  0,  30],\n",
       "       [ 33,  37],\n",
       "       [ 40,  77],\n",
       "       [ 80,  85],\n",
       "       [ 88,  88],\n",
       "       [ 91,  93],\n",
       "       [ 96, 123],\n",
       "       [126, 149],\n",
       "       [152, 162],\n",
       "       [165, 167]])"
      ]
     },
     "execution_count": 10,
     "metadata": {},
     "output_type": "execute_result"
    }
   ],
   "source": [
    "subset=np.array(subset)\n",
    "np.save(\"/home/her/DPP/subset.npy\", subset)\n",
    "subset[:10]"
   ]
  },
  {
   "cell_type": "markdown",
   "metadata": {},
   "source": [
    "#### wordvec"
   ]
  },
  {
   "cell_type": "code",
   "execution_count": 11,
   "metadata": {},
   "outputs": [],
   "source": [
    "sentences=[]\n",
    "for i in fin1:\n",
    "    sentences.append((i).split())"
   ]
  },
  {
   "cell_type": "code",
   "execution_count": 12,
   "metadata": {},
   "outputs": [
    {
     "name": "stdout",
     "output_type": "stream",
     "text": [
      "42\n"
     ]
    },
    {
     "data": {
      "text/plain": [
       "[['Excuse', 'me'],\n",
       " ['Come', 'on', 'honey', \"let's\", 'get', 'you', 'ready', 'for', 'bed'],\n",
       " ['I',\n",
       "  'am',\n",
       "  'no',\n",
       "  'one',\n",
       "  'special',\n",
       "  'just',\n",
       "  'a',\n",
       "  'common',\n",
       "  'man',\n",
       "  'with',\n",
       "  'common',\n",
       "  'thoughts']]"
      ]
     },
     "execution_count": 12,
     "metadata": {},
     "output_type": "execute_result"
    }
   ],
   "source": [
    "type(sentences)\n",
    "sentlength=[]\n",
    "for i in sentences:\n",
    "    sentlength.append(len(i))\n",
    "print(max(sentlength))\n",
    "sentences[:3]"
   ]
  },
  {
   "cell_type": "code",
   "execution_count": 13,
   "metadata": {},
   "outputs": [
    {
     "name": "stdout",
     "output_type": "stream",
     "text": [
      "Word2Vec(vocab=1620, size=3, alpha=0.025)\n"
     ]
    }
   ],
   "source": [
    "from gensim.models import Word2Vec\n",
    "model = Word2Vec(sentences,size=3, min_count=1)\n",
    "print(model)\n",
    "words = list(model.wv.vocab)\n",
    "model.save(\"/home/her/DPP/word2vecsubtitles.model\")\n",
    "# print((words))"
   ]
  },
  {
   "cell_type": "markdown",
   "metadata": {},
   "source": [
    "#### Feature matrix"
   ]
  },
  {
   "cell_type": "code",
   "execution_count": 34,
   "metadata": {},
   "outputs": [
    {
     "name": "stderr",
     "output_type": "stream",
     "text": [
      "/home/her/bhavya/lib/python3.6/site-packages/ipykernel_launcher.py:8: DeprecationWarning: Call to deprecated `__getitem__` (Method will be removed in 4.0.0, use self.wv.__getitem__() instead).\n",
      "  \n"
     ]
    }
   ],
   "source": [
    "zerovector=[]\n",
    "for i in range(3):\n",
    "  zerovector.append(.0001)\n",
    "\n",
    "def sentencevector(sent):\n",
    "  vector=[]\n",
    "  for word in sent:\n",
    "       vector.append(model[word])\n",
    "  if(len(sent)<max(sentlength)):\n",
    "    for i in range(len(sent),max(sentlength)):\n",
    "      vector.append(zerovector)\n",
    "  return(vector)\n",
    "\n",
    "\n",
    "feature=[]\n",
    "for i in range(len(sentences)):\n",
    "    a=np.array(sentencevector(sentences[i]))\n",
    "    a=a.reshape(126)\n",
    "    feature.append(a)\n",
    "    \n",
    "features=np.array(feature)"
   ]
  },
  {
   "cell_type": "code",
   "execution_count": 15,
   "metadata": {},
   "outputs": [
    {
     "data": {
      "text/plain": [
       "array([ 0.08458272,  0.03219376, -0.28012589,  0.49387267,  0.26729167,\n",
       "       -0.33954626,  0.46310681,  0.21355279, -0.47127345,  0.09683688,\n",
       "        0.17596965, -0.26109123,  0.38655928,  0.29287291, -0.23788272,\n",
       "        0.53056842,  0.52516556, -0.50195867,  0.00121597,  0.26026034,\n",
       "       -0.02824768,  0.03331288, -0.04094418,  0.05174044,  0.1       ,\n",
       "        0.1       ,  0.1       ,  0.1       ,  0.1       ,  0.1       ,\n",
       "        0.1       ,  0.1       ,  0.1       ,  0.1       ,  0.1       ,\n",
       "        0.1       ,  0.1       ,  0.1       ,  0.1       ,  0.1       ,\n",
       "        0.1       ,  0.1       ,  0.1       ,  0.1       ,  0.1       ,\n",
       "        0.1       ,  0.1       ,  0.1       ,  0.1       ,  0.1       ,\n",
       "        0.1       ,  0.1       ,  0.1       ,  0.1       ,  0.1       ,\n",
       "        0.1       ,  0.1       ,  0.1       ,  0.1       ,  0.1       ,\n",
       "        0.1       ,  0.1       ,  0.1       ,  0.1       ,  0.1       ,\n",
       "        0.1       ,  0.1       ,  0.1       ,  0.1       ,  0.1       ,\n",
       "        0.1       ,  0.1       ,  0.1       ,  0.1       ,  0.1       ,\n",
       "        0.1       ,  0.1       ,  0.1       ,  0.1       ,  0.1       ,\n",
       "        0.1       ,  0.1       ,  0.1       ,  0.1       ,  0.1       ,\n",
       "        0.1       ,  0.1       ,  0.1       ,  0.1       ,  0.1       ,\n",
       "        0.1       ,  0.1       ,  0.1       ,  0.1       ,  0.1       ,\n",
       "        0.1       ,  0.1       ,  0.1       ,  0.1       ,  0.1       ,\n",
       "        0.1       ,  0.1       ,  0.1       ,  0.1       ,  0.1       ,\n",
       "        0.1       ,  0.1       ,  0.1       ,  0.1       ,  0.1       ,\n",
       "        0.1       ,  0.1       ,  0.1       ,  0.1       ,  0.1       ,\n",
       "        0.1       ,  0.1       ,  0.1       ,  0.1       ,  0.1       ,\n",
       "        0.1       ,  0.1       ,  0.1       ,  0.1       ,  0.1       ,\n",
       "        0.1       ])"
      ]
     },
     "execution_count": 15,
     "metadata": {},
     "output_type": "execute_result"
    }
   ],
   "source": [
    "features[33]"
   ]
  },
  {
   "cell_type": "code",
   "execution_count": 35,
   "metadata": {},
   "outputs": [
    {
     "data": {
      "text/plain": [
       "list"
      ]
     },
     "execution_count": 35,
     "metadata": {},
     "output_type": "execute_result"
    }
   ],
   "source": [
    "type(feature)"
   ]
  },
  {
   "cell_type": "code",
   "execution_count": 36,
   "metadata": {},
   "outputs": [],
   "source": [
    "np.save(\"/home/her/DPP/feature.npy\", feature)"
   ]
  },
  {
   "cell_type": "code",
   "execution_count": 17,
   "metadata": {},
   "outputs": [
    {
     "data": {
      "text/plain": [
       "array([[  0,  30],\n",
       "       [ 33,  37],\n",
       "       [ 40,  77],\n",
       "       [ 80,  85],\n",
       "       [ 88,  88],\n",
       "       [ 91,  93],\n",
       "       [ 96, 123],\n",
       "       [126, 149],\n",
       "       [152, 162],\n",
       "       [165, 167]])"
      ]
     },
     "execution_count": 17,
     "metadata": {},
     "output_type": "execute_result"
    }
   ],
   "source": [
    "subset=np.array(subset)\n",
    "np.save(\"/home/her/DPP/subset.npy\", subset)\n",
    "subset[:10]"
   ]
  },
  {
   "cell_type": "code",
   "execution_count": 37,
   "metadata": {},
   "outputs": [
    {
     "data": {
      "text/plain": [
       "array([[ 1.18045971e-01,  8.89236331e-02, -6.17957748e-02, ...,\n",
       "         1.00000000e-04,  1.00000000e-04,  1.00000000e-04],\n",
       "       [ 1.52533397e-01,  8.71773809e-02, -3.73135924e-01, ...,\n",
       "         1.00000000e-04,  1.00000000e-04,  1.00000000e-04],\n",
       "       [ 8.92009795e-01,  7.60515153e-01, -9.70908225e-01, ...,\n",
       "         1.00000000e-04,  1.00000000e-04,  1.00000000e-04],\n",
       "       ...,\n",
       "       [ 8.92009795e-01,  7.60515153e-01, -9.70908225e-01, ...,\n",
       "         1.00000000e-04,  1.00000000e-04,  1.00000000e-04],\n",
       "       [ 8.92009795e-01,  7.60515153e-01, -9.70908225e-01, ...,\n",
       "         1.00000000e-04,  1.00000000e-04,  1.00000000e-04],\n",
       "       [ 1.35119915e-01,  2.16811635e-02, -7.22260997e-02, ...,\n",
       "         1.00000000e-04,  1.00000000e-04,  1.00000000e-04]])"
      ]
     },
     "execution_count": 37,
     "metadata": {},
     "output_type": "execute_result"
    }
   ],
   "source": [
    "featurefinal=[]\n",
    "for a in subset:\n",
    "    featurefinal.append(feature[a[0]:a[1]])\n",
    "featurefinal=sum(featurefinal,[])\n",
    "featurefinal=np.array(featurefinal)   \n",
    "featurefinal"
   ]
  },
  {
   "cell_type": "code",
   "execution_count": 38,
   "metadata": {},
   "outputs": [],
   "source": [
    "np.save(\"/home/her/DPP/featurefinal.npy\", featurefinal)"
   ]
  },
  {
   "cell_type": "code",
   "execution_count": null,
   "metadata": {},
   "outputs": [],
   "source": []
  },
  {
   "cell_type": "code",
   "execution_count": 20,
   "metadata": {},
   "outputs": [],
   "source": [
    "sublength=[]\n",
    "for a in subset:\n",
    "    sublength.append(a[1]-a[0]+1)\n",
    "    "
   ]
  },
  {
   "cell_type": "code",
   "execution_count": 21,
   "metadata": {
    "collapsed": true
   },
   "outputs": [
    {
     "data": {
      "text/plain": [
       "[31,\n",
       " 5,\n",
       " 38,\n",
       " 6,\n",
       " 1,\n",
       " 3,\n",
       " 28,\n",
       " 24,\n",
       " 11,\n",
       " 3,\n",
       " 4,\n",
       " 13,\n",
       " 4,\n",
       " 3,\n",
       " 2,\n",
       " 17,\n",
       " 2,\n",
       " 8,\n",
       " 7,\n",
       " 22,\n",
       " 23,\n",
       " 5,\n",
       " 1,\n",
       " 1,\n",
       " 3,\n",
       " 4,\n",
       " 1,\n",
       " 1,\n",
       " 15,\n",
       " 7,\n",
       " 2,\n",
       " 17,\n",
       " 34,\n",
       " 33,\n",
       " 13,\n",
       " 1,\n",
       " 11,\n",
       " 3,\n",
       " 1,\n",
       " 12,\n",
       " 40,\n",
       " 1,\n",
       " 1,\n",
       " 1,\n",
       " 1,\n",
       " 8,\n",
       " 2,\n",
       " 20,\n",
       " 14,\n",
       " 7,\n",
       " 8,\n",
       " 39,\n",
       " 6,\n",
       " 1,\n",
       " 6,\n",
       " 12,\n",
       " 7,\n",
       " 1,\n",
       " 5,\n",
       " 13,\n",
       " 1,\n",
       " 8,\n",
       " 2,\n",
       " 1,\n",
       " 61,\n",
       " 5,\n",
       " 4,\n",
       " 37,\n",
       " 9,\n",
       " 21,\n",
       " 65,\n",
       " 18,\n",
       " 6,\n",
       " 8,\n",
       " 7,\n",
       " 7,\n",
       " 45,\n",
       " 13,\n",
       " 2,\n",
       " 2,\n",
       " 6,\n",
       " 53,\n",
       " 11,\n",
       " 25,\n",
       " 11,\n",
       " 31,\n",
       " 28,\n",
       " 42,\n",
       " 75,\n",
       " 5,\n",
       " 11,\n",
       " 1,\n",
       " 26,\n",
       " 20,\n",
       " 39,\n",
       " 1,\n",
       " 2,\n",
       " 28,\n",
       " 13,\n",
       " 14,\n",
       " 3,\n",
       " 13,\n",
       " 1,\n",
       " 42,\n",
       " 18,\n",
       " 3,\n",
       " 6,\n",
       " 37,\n",
       " 5,\n",
       " 5,\n",
       " 38,\n",
       " 28,\n",
       " 16,\n",
       " 3,\n",
       " 7,\n",
       " 29,\n",
       " 3,\n",
       " 3,\n",
       " 2,\n",
       " 4,\n",
       " 5,\n",
       " 11,\n",
       " 5,\n",
       " 2,\n",
       " 6,\n",
       " 1,\n",
       " 11,\n",
       " 1,\n",
       " 7,\n",
       " 7,\n",
       " 5,\n",
       " 62]"
      ]
     },
     "execution_count": 21,
     "metadata": {},
     "output_type": "execute_result"
    }
   ],
   "source": [
    "sublength"
   ]
  },
  {
   "cell_type": "code",
   "execution_count": 24,
   "metadata": {},
   "outputs": [],
   "source": [
    "fins=[]\n",
    "a=0\n",
    "for i in sublength:\n",
    "    b=[]\n",
    "    b.append(a)\n",
    "    a=a+i-1\n",
    "    b.append(a)   \n",
    "    fins.append(b)    "
   ]
  },
  {
   "cell_type": "code",
   "execution_count": 25,
   "metadata": {},
   "outputs": [
    {
     "data": {
      "text/plain": [
       "[[0, 30],\n",
       " [30, 34],\n",
       " [34, 71],\n",
       " [71, 76],\n",
       " [76, 76],\n",
       " [76, 78],\n",
       " [78, 105],\n",
       " [105, 128],\n",
       " [128, 138],\n",
       " [138, 140],\n",
       " [140, 143],\n",
       " [143, 155],\n",
       " [155, 158],\n",
       " [158, 160],\n",
       " [160, 161],\n",
       " [161, 177],\n",
       " [177, 178],\n",
       " [178, 185],\n",
       " [185, 191],\n",
       " [191, 212],\n",
       " [212, 234],\n",
       " [234, 238],\n",
       " [238, 238],\n",
       " [238, 238],\n",
       " [238, 240],\n",
       " [240, 243],\n",
       " [243, 243],\n",
       " [243, 243],\n",
       " [243, 257],\n",
       " [257, 263],\n",
       " [263, 264],\n",
       " [264, 280],\n",
       " [280, 313],\n",
       " [313, 345],\n",
       " [345, 357],\n",
       " [357, 357],\n",
       " [357, 367],\n",
       " [367, 369],\n",
       " [369, 369],\n",
       " [369, 380],\n",
       " [380, 419],\n",
       " [419, 419],\n",
       " [419, 419],\n",
       " [419, 419],\n",
       " [419, 419],\n",
       " [419, 426],\n",
       " [426, 427],\n",
       " [427, 446],\n",
       " [446, 459],\n",
       " [459, 465],\n",
       " [465, 472],\n",
       " [472, 510],\n",
       " [510, 515],\n",
       " [515, 515],\n",
       " [515, 520],\n",
       " [520, 531],\n",
       " [531, 537],\n",
       " [537, 537],\n",
       " [537, 541],\n",
       " [541, 553],\n",
       " [553, 553],\n",
       " [553, 560],\n",
       " [560, 561],\n",
       " [561, 561],\n",
       " [561, 621],\n",
       " [621, 625],\n",
       " [625, 628],\n",
       " [628, 664],\n",
       " [664, 672],\n",
       " [672, 692],\n",
       " [692, 756],\n",
       " [756, 773],\n",
       " [773, 778],\n",
       " [778, 785],\n",
       " [785, 791],\n",
       " [791, 797],\n",
       " [797, 841],\n",
       " [841, 853],\n",
       " [853, 854],\n",
       " [854, 855],\n",
       " [855, 860],\n",
       " [860, 912],\n",
       " [912, 922],\n",
       " [922, 946],\n",
       " [946, 956],\n",
       " [956, 986],\n",
       " [986, 1013],\n",
       " [1013, 1054],\n",
       " [1054, 1128],\n",
       " [1128, 1132],\n",
       " [1132, 1142],\n",
       " [1142, 1142],\n",
       " [1142, 1167],\n",
       " [1167, 1186],\n",
       " [1186, 1224],\n",
       " [1224, 1224],\n",
       " [1224, 1225],\n",
       " [1225, 1252],\n",
       " [1252, 1264],\n",
       " [1264, 1277],\n",
       " [1277, 1279],\n",
       " [1279, 1291],\n",
       " [1291, 1291],\n",
       " [1291, 1332],\n",
       " [1332, 1349],\n",
       " [1349, 1351],\n",
       " [1351, 1356],\n",
       " [1356, 1392],\n",
       " [1392, 1396],\n",
       " [1396, 1400],\n",
       " [1400, 1437],\n",
       " [1437, 1464],\n",
       " [1464, 1479],\n",
       " [1479, 1481],\n",
       " [1481, 1487],\n",
       " [1487, 1515],\n",
       " [1515, 1517],\n",
       " [1517, 1519],\n",
       " [1519, 1520],\n",
       " [1520, 1523],\n",
       " [1523, 1527],\n",
       " [1527, 1537],\n",
       " [1537, 1541],\n",
       " [1541, 1542],\n",
       " [1542, 1547],\n",
       " [1547, 1547],\n",
       " [1547, 1557],\n",
       " [1557, 1557],\n",
       " [1557, 1563],\n",
       " [1563, 1569],\n",
       " [1569, 1573],\n",
       " [1573, 1634]]"
      ]
     },
     "execution_count": 25,
     "metadata": {},
     "output_type": "execute_result"
    }
   ],
   "source": [
    "fins"
   ]
  },
  {
   "cell_type": "code",
   "execution_count": 26,
   "metadata": {},
   "outputs": [],
   "source": [
    "np.save(\"/home/her/DPP/subsetfinal.npy\", fins)"
   ]
  }
 ],
 "metadata": {
  "kernelspec": {
   "display_name": "Python 3",
   "language": "python",
   "name": "python3"
  },
  "language_info": {
   "codemirror_mode": {
    "name": "ipython",
    "version": 3
   },
   "file_extension": ".py",
   "mimetype": "text/x-python",
   "name": "python",
   "nbconvert_exporter": "python",
   "pygments_lexer": "ipython3",
   "version": "3.6.7"
  }
 },
 "nbformat": 4,
 "nbformat_minor": 2
}
