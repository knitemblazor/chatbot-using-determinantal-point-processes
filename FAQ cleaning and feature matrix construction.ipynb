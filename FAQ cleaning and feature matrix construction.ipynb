{
 "cells": [
  {
   "cell_type": "code",
   "execution_count": 1,
   "metadata": {},
   "outputs": [],
   "source": [
    "f = open('/home/her/DPPFAQ/project.txt', 'r')\n",
    "x= f.read().splitlines()\n",
    "f.close()"
   ]
  },
  {
   "cell_type": "code",
   "execution_count": 2,
   "metadata": {
    "scrolled": true
   },
   "outputs": [
    {
     "data": {
      "text/plain": [
       "['How much loan amount can I borrow in a Car Loan? You can borrow a loan amount from Rs50000 upto Rs30 Lakhs for Salaried Individuals and upto Rs1 Crore for Self-employed Individuals and Professionals depending on your eligibility basis the financial documents submitted, repayment capacity and loan amount required',\n",
       " ' RBL Bank only sanctions car loans for New Car purchase',\n",
       " ' How will I repay my Car Loan? We offer Car Loan as a term loan which can be repaid in easy EMIs (Equated Monthly Installments)',\n",
       " ' EMI can be paid through ECS facility, Standing Instruction to debit your RBL Bank account or through Post Dated Cheques with your EMI amount',\n",
       " ' EMI amount can be calculated using ‘EMI Calculator’ ',\n",
       " ' For how many months can I borrow a Car Loan? We offer convenient repayment options from 12 to 60 months',\n",
       " ' How much LTV can I get in a Car Loan? RBL Bank offers an LTV (Loan to Value) upto 90% of the value of the new car (includes Ex',\n",
       " ' Showroom Price + VAT + Insurance) What is the security to avail a Car Loan? Your vehicle is hypothecated to RBL Bank and lien is marked in favour of RBL Bank on the Registration Certificate, Final Invoice and Insurance Policy',\n",
       " 'Do I have to pay any Processing Fees or Charges to avail a Car Loan? A processing fee of a maximum of 1% of the loan amount (plus Service Tax at the prevailing rate) is required to be paid',\n",
       " ' This fee will be deducted from the Loan amount at the time of the disbursal of your loan']"
      ]
     },
     "execution_count": 2,
     "metadata": {},
     "output_type": "execute_result"
    }
   ],
   "source": [
    "x1=\" \".join(x)\n",
    "x1=x1.split('.')\n",
    "x1[:10]"
   ]
  },
  {
   "cell_type": "code",
   "execution_count": 3,
   "metadata": {},
   "outputs": [],
   "source": [
    "sent=[]\n",
    "counter=[]\n",
    "a=0\n",
    "for i in range(len(x1)):\n",
    "    d=[]\n",
    "    d.append(x1[i].split('?'))\n",
    "    d=sum(d,[])\n",
    "    if(len(d)>1):\n",
    "        counter.append(i+a)\n",
    "        a=a+1\n",
    "    sent.append(list(d))\n",
    "       "
   ]
  },
  {
   "cell_type": "code",
   "execution_count": 4,
   "metadata": {},
   "outputs": [
    {
     "data": {
      "text/plain": [
       "['How much loan amount can I borrow in a Car Loan',\n",
       " ' You can borrow a loan amount from Rs50000 upto Rs30 Lakhs for Salaried Individuals and upto Rs1 Crore for Self-employed Individuals and Professionals depending on your eligibility basis the financial documents submitted, repayment capacity and loan amount required',\n",
       " ' RBL Bank only sanctions car loans for New Car purchase',\n",
       " ' How will I repay my Car Loan',\n",
       " ' We offer Car Loan as a term loan which can be repaid in easy EMIs (Equated Monthly Installments)']"
      ]
     },
     "execution_count": 4,
     "metadata": {},
     "output_type": "execute_result"
    }
   ],
   "source": [
    "x=sum(sent,[])\n",
    "x[:5]\n"
   ]
  },
  {
   "cell_type": "markdown",
   "metadata": {},
   "source": [
    "#### REMOVING SPECIAL CHARACTERS"
   ]
  },
  {
   "cell_type": "code",
   "execution_count": 5,
   "metadata": {},
   "outputs": [],
   "source": [
    "d =[]\n",
    "elim=['1','2','3','4','5','6','7','8','9','0',':',';','>','<','/',',','-','\\\\','#','%','(',')','+','\"']\n",
    "for i in x:\n",
    "    sent = \" \".join(\"\".join([\"\" if ch in elim else ch for ch in i]).split())\n",
    "    d.append(sent.lower())"
   ]
  },
  {
   "cell_type": "code",
   "execution_count": 6,
   "metadata": {},
   "outputs": [
    {
     "data": {
      "text/plain": [
       "[0, 3, 7, 9, 11]"
      ]
     },
     "execution_count": 6,
     "metadata": {},
     "output_type": "execute_result"
    }
   ],
   "source": [
    "counter[:5]"
   ]
  },
  {
   "cell_type": "code",
   "execution_count": 7,
   "metadata": {},
   "outputs": [
    {
     "data": {
      "text/plain": [
       "99"
      ]
     },
     "execution_count": 7,
     "metadata": {},
     "output_type": "execute_result"
    }
   ],
   "source": [
    "f=[]\n",
    "for i in d:\n",
    "#     print(len(i))\n",
    "    if(len(i)!=0):\n",
    "        f.append(i)\n",
    "f[:5]\n",
    "len(f)"
   ]
  },
  {
   "cell_type": "code",
   "execution_count": 8,
   "metadata": {},
   "outputs": [
    {
     "data": {
      "text/plain": [
       "['how much loan amount can i borrow in a car loan',\n",
       " 'you can borrow a loan amount from rs upto rs lakhs for salaried individuals and upto rs crore for selfemployed individuals and professionals depending on your eligibility basis the financial documents submitted repayment capacity and loan amount required',\n",
       " 'rbl bank only sanctions car loans for new car purchase',\n",
       " 'how will i repay my car loan',\n",
       " 'we offer car loan as a term loan which can be repaid in easy emis equated monthly installments']"
      ]
     },
     "execution_count": 8,
     "metadata": {},
     "output_type": "execute_result"
    }
   ],
   "source": [
    "f[:5]"
   ]
  },
  {
   "cell_type": "markdown",
   "metadata": {},
   "source": [
    "#### SUBSET GROUPING"
   ]
  },
  {
   "cell_type": "code",
   "execution_count": 9,
   "metadata": {},
   "outputs": [],
   "source": [
    "samplebound=counter[1:]"
   ]
  },
  {
   "cell_type": "code",
   "execution_count": 10,
   "metadata": {},
   "outputs": [],
   "source": [
    "import numpy as np\n",
    "bound=[]\n",
    "bound.append([0,samplebound[0]-1])\n",
    "\n",
    "for i in range(len(samplebound)-1):\n",
    "    if ((samplebound[i+1]-samplebound[i])>1):\n",
    "        a=[]\n",
    "        a.append(samplebound[i])\n",
    "        a.append(samplebound[i+1]-1)\n",
    "        bound.append(a)\n",
    "c=[]\n",
    "c.append(a[1]+1)\n",
    "c.append(len(f)-1)\n",
    "bound.append(c)\n",
    "\n",
    "subset=np.array(bound)\n"
   ]
  },
  {
   "cell_type": "code",
   "execution_count": 11,
   "metadata": {},
   "outputs": [
    {
     "data": {
      "text/plain": [
       "array([[ 0,  2],\n",
       "       [ 3,  6],\n",
       "       [ 7,  8],\n",
       "       [ 9, 10],\n",
       "       [11, 12]])"
      ]
     },
     "execution_count": 11,
     "metadata": {},
     "output_type": "execute_result"
    }
   ],
   "source": [
    "subset=np.array(subset)\n",
    "np.save(\"/home/her/DPPFAQ/subsetfaq.npy\", subset)\n",
    "subset[:5]"
   ]
  },
  {
   "cell_type": "markdown",
   "metadata": {},
   "source": [
    "#### wordvec"
   ]
  },
  {
   "cell_type": "code",
   "execution_count": 12,
   "metadata": {},
   "outputs": [],
   "source": [
    "sentences=[]\n",
    "for i in f:\n",
    "    sentences.append((i).split())"
   ]
  },
  {
   "cell_type": "code",
   "execution_count": 13,
   "metadata": {},
   "outputs": [
    {
     "name": "stdout",
     "output_type": "stream",
     "text": [
      "38\n"
     ]
    },
    {
     "data": {
      "text/plain": [
       "[['how',\n",
       "  'much',\n",
       "  'loan',\n",
       "  'amount',\n",
       "  'can',\n",
       "  'i',\n",
       "  'borrow',\n",
       "  'in',\n",
       "  'a',\n",
       "  'car',\n",
       "  'loan']]"
      ]
     },
     "execution_count": 13,
     "metadata": {},
     "output_type": "execute_result"
    }
   ],
   "source": [
    "type(sentences)\n",
    "sentlength=[]\n",
    "for i in sentences:\n",
    "    sentlength.append(len(i))\n",
    "print(max(sentlength))\n",
    "sentences[:1]"
   ]
  },
  {
   "cell_type": "code",
   "execution_count": 14,
   "metadata": {},
   "outputs": [
    {
     "name": "stdout",
     "output_type": "stream",
     "text": [
      "Word2Vec(vocab=335, size=300, alpha=0.025)\n"
     ]
    }
   ],
   "source": [
    "from gensim.models import Word2Vec\n",
    "model = Word2Vec(sentences,size=300, min_count=1)\n",
    "print(model)\n",
    "words = list(model.wv.vocab)\n",
    "model.save(\"/home/her/DPP/word2vecsubtitlesfaq.model\")\n",
    "# print((words))"
   ]
  },
  {
   "cell_type": "markdown",
   "metadata": {},
   "source": [
    "#### Feature matrix"
   ]
  },
  {
   "cell_type": "code",
   "execution_count": 15,
   "metadata": {},
   "outputs": [
    {
     "name": "stderr",
     "output_type": "stream",
     "text": [
      "/home/her/bhavya/lib/python3.6/site-packages/ipykernel_launcher.py:7: DeprecationWarning: Call to deprecated `__getitem__` (Method will be removed in 4.0.0, use self.wv.__getitem__() instead).\n",
      "  import sys\n"
     ]
    }
   ],
   "source": [
    "def sentencevector(sent):\n",
    "    vector=[]\n",
    "    c=[]\n",
    "    for i in range(300):\n",
    "        c.append(0)\n",
    "    for word in sent:\n",
    "           vector.append(model[word])\n",
    "    for i in vector:\n",
    "        c=c+np.array(i)\n",
    "    return(c)\n",
    "\n",
    "\n",
    "feature=[]\n",
    "for i in range(len(sentences)):\n",
    "    a=np.array(sentencevector(sentences[i]))\n",
    "    feature.append(a)\n",
    "    \n",
    "features=np.array(feature)"
   ]
  },
  {
   "cell_type": "code",
   "execution_count": 73,
   "metadata": {},
   "outputs": [
    {
     "data": {
      "text/plain": [
       "list"
      ]
     },
     "execution_count": 73,
     "metadata": {},
     "output_type": "execute_result"
    }
   ],
   "source": [
    "type(feature)"
   ]
  },
  {
   "cell_type": "code",
   "execution_count": 74,
   "metadata": {},
   "outputs": [],
   "source": [
    "np.save(\"/home/her/DPPFAQ/featurefaq.npy\", feature)"
   ]
  },
  {
   "cell_type": "code",
   "execution_count": null,
   "metadata": {},
   "outputs": [],
   "source": []
  }
 ],
 "metadata": {
  "kernelspec": {
   "display_name": "Python 3",
   "language": "python",
   "name": "python3"
  },
  "language_info": {
   "codemirror_mode": {
    "name": "ipython",
    "version": 3
   },
   "file_extension": ".py",
   "mimetype": "text/x-python",
   "name": "python",
   "nbconvert_exporter": "python",
   "pygments_lexer": "ipython3",
   "version": "3.6.7"
  }
 },
 "nbformat": 4,
 "nbformat_minor": 2
}
